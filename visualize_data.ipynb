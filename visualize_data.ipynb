{
 "cells": [
  {
   "cell_type": "markdown",
   "metadata": {},
   "source": [
    "# Visualize the dataset in data_clean.npz"
   ]
  },
  {
   "cell_type": "code",
   "execution_count": 4,
   "metadata": {},
   "outputs": [],
   "source": [
    "from utils import *\n",
    "from common import *"
   ]
  },
  {
   "cell_type": "code",
   "execution_count": null,
   "metadata": {},
   "outputs": [],
   "source": [
    "# load data\n",
    "data = np.load('data/data_clean.npz')\n",
    "print(data.files)\n",
    "for k in data.files:\n",
    "    print(k, data[k].shape) \n",
    "sxr = data['sxr']\n",
    "emiss = data['emiss']\n",
    "#cehck all the values in x_emiss and y_emiss are the same\n",
    "xemiss0, yemiss0 = data['x_emiss'][0], data['y_emiss'][0]\n",
    "for xemiss, yemiss in zip(data['x_emiss'], data['y_emiss']):\n",
    "    assert np.allclose(xemiss, xemiss0)\n",
    "    assert np.allclose(yemiss, yemiss0)\n",
    "rr, zz = data['x_emiss'][0], data['y_emiss'][0]\n",
    "N = len(sxr)\n",
    "del data"
   ]
  },
  {
   "cell_type": "code",
   "execution_count": null,
   "metadata": {},
   "outputs": [],
   "source": [
    "# plot sxr and emiss\n",
    "random_idxs = np.random.choice(N, 1)\n",
    "for i in random_idxs:\n",
    "    isxr, iemiss = sxr[i], emiss[i]\n",
    "    # print(f'isxr: {isxr.shape}, iemiss: {iemiss.shape}')\n",
    "    # # split from looking at the data, NOTE: in the various papers the numbers are different, they probably changed configuration during the years\n",
    "    sxra = isxr[VDI_INTERVAL[0]:VDI_INTERVAL[1]] \n",
    "    sxrb = isxr[VDC_INTERVAL[0]:VDC_INTERVAL[1]]\n",
    "    sxrc = isxr[VDE_INTERVAL[0]:VDE_INTERVAL[1]]\n",
    "    sxrd = isxr[HOR1_INTERVAL[0]:HOR1_INTERVAL[1]]\n",
    "    sxre = isxr[HOR2_INTERVAL[0]:HOR2_INTERVAL[1]]\n",
    "    print(f'VDI: {sxra.shape}, VDC: {sxrb.shape}, VDE: {sxrc.shape}, HOR1: {sxrd.shape}, HOR2: {sxre.shape}, tot: {isxr.shape}')\n",
    "    # figure\n",
    "    fig, ax = plt.subplots(1, 2, figsize=(20, 4), gridspec_kw={'width_ratios': [3, 1]})\n",
    "    # sxr\n",
    "    ax[0].plot(isxr, 'rs:')\n",
    "    ax[0].set_title('SXR')\n",
    "    ax[0].set_xlabel('Time')\n",
    "    ax[0].set_ylabel('Intensity')\n",
    "    # emiss\n",
    "    ax[1].contourf(rr, zz, iemiss, cmap='inferno')\n",
    "    ax[1].set_title('Emissivity')\n",
    "    ax[1].set_xlabel('Time')\n",
    "    ax[1].set_ylabel('Channel')\n",
    "    ax[1].set_aspect(\"equal\")\n",
    "    fig.colorbar(ax[1].collections[0], ax=ax[1], orientation=\"vertical\")\n",
    "    plt.show()\n",
    "    # sub sxr\n",
    "    fig, ax = plt.subplots(1, 5, figsize=(20, 3))\n",
    "    ax[0].plot(sxra, 'rs:')\n",
    "    ax[1].plot(sxrb, 'rs:')\n",
    "    ax[2].plot(sxrc, 'rs:')\n",
    "    ax[3].plot(sxrd, 'rs:')\n",
    "    ax[4].plot(sxre, 'rs:')\n",
    "    for a in ax: a.set_ylim(-1, np.max(isxr)+1)\n",
    "    plt.show()\n",
    "    \n",
    "    #tests\n",
    "    fig = plt.figure(figsize=(10, 5))\n",
    "    #resize the emissivity to 64x64 and to 256x256\n",
    "    iemiss64 = resize2d(iemiss, (64, 64))\n",
    "    iemiss256 = resize2d(iemiss, (256, 256))\n",
    "    #plot the original emissivity\n",
    "    ax = fig.add_subplot(1, 3, 1)\n",
    "    ax.imshow(iemiss, cmap='inferno', origin='lower', extent=(rr[0], rr[-1], zz[0], zz[-1]))\n",
    "    ax.set_title('Original Emissivity')\n",
    "    ax.set_xlabel('R [m]')\n",
    "    ax.set_ylabel('Z [m]')\n",
    "    ax.set_aspect('equal')\n",
    "    #plot the resized emissivity to 64x64\n",
    "    ax = fig.add_subplot(1, 3, 2)\n",
    "    ax.imshow(iemiss64, cmap='inferno', origin='lower', extent=(rr[0], rr[-1], zz[0], zz[-1]))\n",
    "    ax.set_title('Resized Emissivity (64x64)')\n",
    "    ax.set_xlabel('R [m]')\n",
    "    ax.set_ylabel('Z [m]')\n",
    "    ax.set_aspect('equal')\n",
    "    #plot the resized emissivity to 256x256\n",
    "    ax = fig.add_subplot(1, 3, 3)\n",
    "    ax.imshow(iemiss256, cmap='inferno', origin='lower', extent=(rr[0], rr[-1], zz[0], zz[-1]))\n",
    "    ax.set_title('Resized Emissivity (256x256)')\n",
    "    ax.set_xlabel('R [m]')\n",
    "    ax.set_ylabel('Z [m]')\n",
    "    ax.set_aspect('equal')\n",
    "    plt.tight_layout()\n",
    "    plt.show()\n",
    "    plt.close(fig)"
   ]
  }
 ],
 "metadata": {
  "kernelspec": {
   "display_name": "ml",
   "language": "python",
   "name": "python3"
  },
  "language_info": {
   "codemirror_mode": {
    "name": "ipython",
    "version": 3
   },
   "file_extension": ".py",
   "mimetype": "text/x-python",
   "name": "python",
   "nbconvert_exporter": "python",
   "pygments_lexer": "ipython3",
   "version": "3.12.8"
  }
 },
 "nbformat": 4,
 "nbformat_minor": 2
}
