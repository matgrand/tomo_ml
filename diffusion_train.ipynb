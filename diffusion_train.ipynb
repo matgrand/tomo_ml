{
 "cells": [
  {
   "cell_type": "markdown",
   "metadata": {
    "id": "HhIgGq3za0yh"
   },
   "source": [
    "# Testing Diffuasion Model for generating new Emissivities\n"
   ]
  },
  {
   "cell_type": "code",
   "execution_count": null,
   "metadata": {},
   "outputs": [],
   "source": [
    "from utils import *\n",
    "from common import *"
   ]
  },
  {
   "cell_type": "code",
   "execution_count": 2,
   "metadata": {},
   "outputs": [],
   "source": [
    "class DiffSXRDataset(SXRDataset):\n",
    "    def __init__(self, n, gs, real=False, noise_level:float=0.0, random_remove:int=0, ks=1.0):\n",
    "        super().__init__(n, gs, real, noise_level, random_remove, ks)\n",
    "        assert self.em.shape[-1] == self.em.shape[-2] == 64, f'Expected 64x64, got {self.em.shape}'\n",
    "        self.em = self.em.view(-1, 1, 64, 64)\n",
    "        # em_mean = self.em.mean()\n",
    "        # self.em = self.em - em_mean # center\n",
    "    def __getitem__(self, idx): return self.em[idx]"
   ]
  },
  {
   "cell_type": "code",
   "execution_count": 3,
   "metadata": {},
   "outputs": [],
   "source": [
    "N_DS = 10_000\n",
    "# N_DS = 50_000\n",
    "BATCH_SIZE = 128"
   ]
  },
  {
   "cell_type": "code",
   "execution_count": null,
   "metadata": {
    "colab": {
     "base_uri": "https://localhost:8080/",
     "height": 727
    },
    "id": "LQnlc27k7Aiw",
    "outputId": "b8125880-d5b1-472a-d746-326c458e233e"
   },
   "outputs": [],
   "source": [
    "def show_images(data, num_samples=16, cols=4):\n",
    "    \"\"\" Plots some samples from the dataset \"\"\"\n",
    "    plt.figure(figsize=(7,7))\n",
    "\n",
    "    for i, img in enumerate(data):\n",
    "        if i == num_samples: break\n",
    "        plt.subplot(int(num_samples/cols) + 1, cols, i + 1)\n",
    "        plt.grid(False)\n",
    "        plt.xticks([])\n",
    "        plt.yticks([])\n",
    "        # plt.imshow(img[0])\n",
    "        # print(f\"img: {img.shape}\")\n",
    "        plt.imshow(img.cpu().numpy().reshape(64, 64), cmap=\"inferno\")\n",
    "        #colorbar\n",
    "        plt.colorbar()\n",
    "\n",
    "data = DiffSXRDataset(N_DS, GSIZE, True, 0, 0, KS/255)\n",
    "print(f\"Dataset: {len(data)}\")\n",
    "show_images(data)"
   ]
  },
  {
   "cell_type": "markdown",
   "metadata": {
    "id": "JbwhSujTXucO"
   },
   "source": [
    "Later in this notebook we will do some additional modifications to this dataset, for example make the images smaller, convert them to tensors ect."
   ]
  },
  {
   "cell_type": "markdown",
   "metadata": {
    "id": "ZF7wH4cE_JKY"
   },
   "source": [
    "# Building the Diffusion Model\n"
   ]
  },
  {
   "cell_type": "markdown",
   "metadata": {
    "id": "Rj17psVw7Shg"
   },
   "source": [
    "## Step 1: The forward process = Noise scheduler\n",
    "\n",
    "\n"
   ]
  },
  {
   "cell_type": "markdown",
   "metadata": {
    "id": "hqcoJ8ZlXE1i"
   },
   "source": [
    "We first need to build the inputs for our model, which are more and more noisy images. Instead of doing this sequentially, we can use the closed form provided in the papers to calculate the image for any of the timesteps individually.\n",
    "\n",
    "**Key Takeaways**:\n",
    "- The noise-levels/variances can be pre-computed\n",
    "- There are different types of variance schedules\n",
    "- We can sample each timestep image independently (Sums of Gaussians is also Gaussian)\n",
    "- No model is needed in this forward step"
   ]
  },
  {
   "cell_type": "code",
   "execution_count": 5,
   "metadata": {
    "id": "qWw50ui9IZ5q"
   },
   "outputs": [],
   "source": [
    "import torch.nn.functional as F\n",
    "\n",
    "def linear_beta_schedule(timesteps, start=0.0001, end=0.02):\n",
    "    return torch.linspace(start, end, timesteps)\n",
    "\n",
    "def get_index_from_list(vals, t, x_shape):\n",
    "    \"\"\"\n",
    "    Returns a specific index t of a passed list of values vals\n",
    "    while considering the batch dimension.\n",
    "    \"\"\"\n",
    "    batch_size = t.shape[0]\n",
    "    out = vals.gather(-1, t.cpu())\n",
    "    return out.reshape(batch_size, *((1,) * (len(x_shape) - 1))).to(t.device)\n",
    "\n",
    "def forward_diffusion_sample(x_0, t, device=\"cpu\"):\n",
    "    \"\"\"\n",
    "    Takes an image and a timestep as input and\n",
    "    returns the noisy version of it\n",
    "    \"\"\"\n",
    "    noise = torch.randn_like(x_0)\n",
    "    sqrt_alphas_cumprod_t = get_index_from_list(sqrt_alphas_cumprod, t, x_0.shape)\n",
    "    sqrt_one_minus_alphas_cumprod_t = get_index_from_list(\n",
    "        sqrt_one_minus_alphas_cumprod, t, x_0.shape\n",
    "    )\n",
    "    # mean + variance\n",
    "    return sqrt_alphas_cumprod_t.to(DEV) * x_0.to(DEV) \\\n",
    "        + sqrt_one_minus_alphas_cumprod_t.to(DEV) * noise.to(DEV), noise.to(DEV)\n",
    "\n",
    "\n",
    "# Define beta schedule\n",
    "T = 300\n",
    "betas = linear_beta_schedule(timesteps=T)\n",
    "\n",
    "# Pre-calculate different terms for closed form\n",
    "alphas = 1. - betas\n",
    "alphas_cumprod = torch.cumprod(alphas, axis=0)\n",
    "alphas_cumprod_prev = F.pad(alphas_cumprod[:-1], (1, 0), value=1.0)\n",
    "sqrt_recip_alphas = torch.sqrt(1.0 / alphas)\n",
    "sqrt_alphas_cumprod = torch.sqrt(alphas_cumprod)\n",
    "sqrt_one_minus_alphas_cumprod = torch.sqrt(1. - alphas_cumprod)\n",
    "posterior_variance = betas * (1. - alphas_cumprod_prev) / (1. - alphas_cumprod)"
   ]
  },
  {
   "cell_type": "markdown",
   "metadata": {
    "id": "Vt6JSKawk7_b"
   },
   "source": [
    "Let's test it on our dataset ..."
   ]
  },
  {
   "cell_type": "code",
   "execution_count": null,
   "metadata": {
    "id": "uuckjpW_k1LN"
   },
   "outputs": [],
   "source": [
    "def show_tensor_image(image):\n",
    "    if len(image.shape) == 4: image = image[0, :, :, :] # Take first image of batch\n",
    "    plt.scatter(RR, ZZ, c=image, cmap=\"plasma\", s=1)\n",
    "    plt.axis(\"equal\")\n",
    "    plt.axis(\"off\")\n",
    "    plt.colorbar()\n",
    "\n",
    "\n",
    "data = DiffSXRDataset(N_DS, GSIZE, True, 0, 0, KS/255)\n",
    "dataloader = DataLoader(data, batch_size=BATCH_SIZE, shuffle=True, drop_last=True)\n",
    "\n",
    "#print stats about dataloader\n",
    "print(f\"Number of batches: {len(dataloader)}\")"
   ]
  },
  {
   "cell_type": "code",
   "execution_count": null,
   "metadata": {
    "colab": {
     "base_uri": "https://localhost:8080/",
     "height": 116
    },
    "id": "2fUPyJghdoUA",
    "outputId": "0a71ca76-dc54-481f-b845-0409e37d2f68"
   },
   "outputs": [],
   "source": [
    "# Simulate forward diffusion\n",
    "# image = next(iter(dataloader))[0]\n",
    "image = next(iter(dataloader))[0]\n",
    "\n",
    "plt.figure(figsize=(15,1))\n",
    "plt.axis('off')\n",
    "num_images = 12\n",
    "stepsize = int(T/num_images)\n",
    "\n",
    "for idx in range(0, T, stepsize):\n",
    "    t = torch.Tensor([idx]).type(torch.int64)\n",
    "    plt.subplot(1, num_images+1, int(idx/stepsize) + 1)\n",
    "    img, noise = forward_diffusion_sample(image, t)\n",
    "    show_tensor_image(img.cpu())"
   ]
  },
  {
   "cell_type": "markdown",
   "metadata": {
    "id": "buW6BaNga-XH"
   },
   "source": [
    "## Step 2: The backward process = U-Net\n",
    "\n"
   ]
  },
  {
   "cell_type": "markdown",
   "metadata": {
    "id": "iYw6u0nJXIWy"
   },
   "source": [
    "For a great introduction to UNets, have a look at this post: https://amaarora.github.io/2020/09/13/unet.html.\n",
    "\n",
    "\n",
    "**Key Takeaways**:\n",
    "- We use a simple form of a UNet for to predict the noise in the image\n",
    "- The input is a noisy image, the ouput the noise in the image\n",
    "- Because the parameters are shared accross time, we need to tell the network in which timestep we are\n",
    "- The Timestep is encoded by the transformer Sinusoidal Embedding\n",
    "- We output one single value (mean), because the variance is fixed\n"
   ]
  },
  {
   "cell_type": "code",
   "execution_count": null,
   "metadata": {
    "colab": {
     "base_uri": "https://localhost:8080/"
    },
    "id": "KOYPSxPf_LL7",
    "outputId": "54827b7e-b9c1-4ee5-d6da-07ec7d0e8af2"
   },
   "outputs": [],
   "source": [
    "from torch import nn\n",
    "import math\n",
    "\n",
    "\n",
    "class Block(nn.Module):\n",
    "    def __init__(self, in_ch, out_ch, time_emb_dim, up=False):\n",
    "        super().__init__()\n",
    "        self.time_mlp =  nn.Linear(time_emb_dim, out_ch)\n",
    "        if up:\n",
    "            self.conv1 = nn.Conv2d(2*in_ch, out_ch, 3, padding=1)\n",
    "            self.transform = nn.ConvTranspose2d(out_ch, out_ch, 4, 2, 1)\n",
    "        else:\n",
    "            self.conv1 = nn.Conv2d(in_ch, out_ch, 3, padding=1)\n",
    "            self.transform = nn.Conv2d(out_ch, out_ch, 4, 2, 1)\n",
    "        self.conv2 = nn.Conv2d(out_ch, out_ch, 3, padding=1)\n",
    "        self.bnorm1 = nn.BatchNorm2d(out_ch)\n",
    "        self.bnorm2 = nn.BatchNorm2d(out_ch)\n",
    "        self.relu  = nn.ReLU()\n",
    "\n",
    "    def forward(self, x, t, ):\n",
    "        # First Conv\n",
    "        h = self.bnorm1(self.relu(self.conv1(x)))\n",
    "        # Time embedding\n",
    "        time_emb = self.relu(self.time_mlp(t))\n",
    "        # Extend last 2 dimensions\n",
    "        time_emb = time_emb[(..., ) + (None, ) * 2]\n",
    "        # Add time channel\n",
    "        h = h + time_emb\n",
    "        # Second Conv\n",
    "        h = self.bnorm2(self.relu(self.conv2(h)))\n",
    "        # Down or Upsample\n",
    "        return self.transform(h)\n",
    "\n",
    "\n",
    "class SinusoidalPositionEmbeddings(nn.Module):\n",
    "    def __init__(self, dim):\n",
    "        super().__init__()\n",
    "        self.dim = dim\n",
    "\n",
    "    def forward(self, time):\n",
    "        device = time.device\n",
    "        half_dim = self.dim // 2\n",
    "        embeddings = math.log(10000) / (half_dim - 1)\n",
    "        embeddings = torch.exp(torch.arange(half_dim, device=DEV) * -embeddings)\n",
    "        embeddings = time[:, None] * embeddings[None, :]\n",
    "        embeddings = torch.cat((embeddings.sin(), embeddings.cos()), dim=-1)\n",
    "        # TODO: Double check the ordering here\n",
    "        return embeddings\n",
    "\n",
    "\n",
    "class SimpleUnet(nn.Module):\n",
    "    \"\"\"\n",
    "    A simplified variant of the Unet architecture.\n",
    "    \"\"\"\n",
    "    def __init__(self):\n",
    "        super().__init__()\n",
    "        image_channels = 1\n",
    "        # down_channels = (64, 128, 256, 512, 1024)\n",
    "        # up_channels = (1024, 512, 256, 128, 64)\n",
    "        K = 8\n",
    "        down_channels = (64//K, 128//K, 256//K, 512//K, 1024//K)\n",
    "        up_channels = (1024//K, 512//K, 256//K, 128//K, 64//K)\n",
    "        out_dim = 1\n",
    "        # time_emb_dim = 32\n",
    "        time_emb_dim = 16\n",
    "\n",
    "        # Time embedding\n",
    "        self.time_mlp = nn.Sequential(\n",
    "                SinusoidalPositionEmbeddings(time_emb_dim),\n",
    "                nn.Linear(time_emb_dim, time_emb_dim),\n",
    "                nn.ReLU()\n",
    "            )\n",
    "\n",
    "        # Initial projection\n",
    "        self.conv0 = nn.Conv2d(image_channels, down_channels[0], 3, padding=1)\n",
    "\n",
    "        # Downsample\n",
    "        self.downs = nn.ModuleList([Block(down_channels[i], down_channels[i+1], \\\n",
    "                                    time_emb_dim) \\\n",
    "                    for i in range(len(down_channels)-1)])\n",
    "        # Upsample\n",
    "        self.ups = nn.ModuleList([Block(up_channels[i], up_channels[i+1], \\\n",
    "                                        time_emb_dim, up=True) \\\n",
    "                    for i in range(len(up_channels)-1)])\n",
    "\n",
    "        # Edit: Corrected a bug found by Jakub C (see YouTube comment)\n",
    "        self.output = nn.Conv2d(up_channels[-1], out_dim, 1)\n",
    "\n",
    "    def forward(self, x, timestep):\n",
    "        # Embedd time\n",
    "        t = self.time_mlp(timestep)\n",
    "        # Initial conv\n",
    "        x = self.conv0(x)\n",
    "        # Unet\n",
    "        residual_inputs = []\n",
    "        for down in self.downs:\n",
    "            x = down(x, t)\n",
    "            residual_inputs.append(x)\n",
    "        for up in self.ups:\n",
    "            residual_x = residual_inputs.pop()\n",
    "            # Add residual x as additional channels\n",
    "            x = torch.cat((x, residual_x), dim=1)\n",
    "            x = up(x, t)\n",
    "        return self.output(x)\n",
    "\n",
    "model = SimpleUnet()\n",
    "print(\"Num params: \", sum(p.numel() for p in model.parameters()))"
   ]
  },
  {
   "cell_type": "markdown",
   "metadata": {
    "id": "6tNzccxqWilM"
   },
   "source": [
    "\n",
    "**Further improvements that can be implemented:**\n",
    "- Residual connections\n",
    "- Different activation functions like SiLU, GWLU, ...\n",
    "- BatchNormalization\n",
    "- GroupNormalization\n",
    "- Attention\n",
    "- ..."
   ]
  },
  {
   "cell_type": "markdown",
   "metadata": {
    "id": "8B9GlZrotBXy"
   },
   "source": [
    "## Step 3: The loss\n",
    "\n"
   ]
  },
  {
   "cell_type": "markdown",
   "metadata": {
    "id": "ph05t8MxXMoY"
   },
   "source": [
    "**Key Takeaways:**\n",
    "- After some maths we end up with a very simple loss function\n",
    "- There are other possible choices like L2 loss ect.\n"
   ]
  },
  {
   "cell_type": "code",
   "execution_count": 9,
   "metadata": {
    "id": "Ed12NNXPtDon"
   },
   "outputs": [],
   "source": [
    "def get_loss(model, x_0, t):\n",
    "    x_noisy, noise = forward_diffusion_sample(x_0, t, DEV)\n",
    "    noise_pred = model(x_noisy, t)\n",
    "    # return F.l1_loss(noise, noise_pred)\n",
    "    return F.mse_loss(noise, noise_pred)"
   ]
  },
  {
   "cell_type": "markdown",
   "metadata": {
    "id": "i7AZkYjKgQTm"
   },
   "source": [
    "## Sampling\n",
    "- Without adding @torch.no_grad() we quickly run out of memory, because pytorch tacks all the previous images for gradient calculation\n",
    "- Because we pre-calculated the noise variances for the forward pass, we also have to use them when we sequentially perform the backward process"
   ]
  },
  {
   "cell_type": "code",
   "execution_count": 10,
   "metadata": {
    "id": "k13hj2mciCHA"
   },
   "outputs": [],
   "source": [
    "@torch.no_grad()\n",
    "def sample_timestep(x, t):\n",
    "    \"\"\"\n",
    "    Calls the model to predict the noise in the image and returns\n",
    "    the denoised image.\n",
    "    Applies noise to this image, if we are not in the last step yet.\n",
    "    \"\"\"\n",
    "    betas_t = get_index_from_list(betas, t, x.shape)\n",
    "    sqrt_one_minus_alphas_cumprod_t = get_index_from_list(\n",
    "        sqrt_one_minus_alphas_cumprod, t, x.shape\n",
    "    )\n",
    "    sqrt_recip_alphas_t = get_index_from_list(sqrt_recip_alphas, t, x.shape)\n",
    "\n",
    "    # Call model (current image - noise prediction)\n",
    "    model_mean = sqrt_recip_alphas_t * (\n",
    "        x - betas_t * model(x, t) / sqrt_one_minus_alphas_cumprod_t\n",
    "    )\n",
    "    posterior_variance_t = get_index_from_list(posterior_variance, t, x.shape)\n",
    "\n",
    "    if t == 0:\n",
    "        # As pointed out by Luis Pereira (see YouTube comment)\n",
    "        # The t's are offset from the t's in the paper\n",
    "        return model_mean\n",
    "    else:\n",
    "        noise = torch.randn_like(x)\n",
    "        return model_mean + torch.sqrt(posterior_variance_t) * noise\n",
    "\n",
    "@torch.no_grad()\n",
    "def sample_plot_image():\n",
    "    # Sample noise\n",
    "    img_size = GSIZE\n",
    "    img = torch.randn((1, 1, img_size, img_size), device=DEV)\n",
    "    plt.figure(figsize=(15,2))\n",
    "    plt.axis('off')\n",
    "    num_images = 10\n",
    "    stepsize = int(T/num_images)\n",
    "\n",
    "    for i in range(0,T)[::-1]:\n",
    "        t = torch.full((1,), i, device=DEV, dtype=torch.long)\n",
    "        img = sample_timestep(img, t)\n",
    "        # Edit: This is to maintain the natural range of the distribution\n",
    "        # img = torch.clamp(img, -1.0, 1.0)\n",
    "        if i % stepsize == 0:\n",
    "            plt.subplot(1, num_images, int(i/stepsize)+1)\n",
    "            show_tensor_image(img.detach().cpu())\n",
    "    plt.tight_layout()\n",
    "    plt.show()"
   ]
  },
  {
   "cell_type": "markdown",
   "metadata": {
    "id": "BIc33L9-uK4q"
   },
   "source": [
    "## Training"
   ]
  },
  {
   "cell_type": "code",
   "execution_count": null,
   "metadata": {
    "colab": {
     "base_uri": "https://localhost:8080/",
     "height": 1000
    },
    "id": "bpN_LKYwuLx0",
    "outputId": "297f1c2c-4548-4e0a-84b6-7f6cd6234875"
   },
   "outputs": [],
   "source": [
    "# assert False\n",
    "from torch.optim import Adam\n",
    "from tqdm import tqdm\n",
    "\n",
    "data = DiffSXRDataset(N_DS, GSIZE, True, 0, 0, KS/255)\n",
    "dataloader = DataLoader(data, batch_size=BATCH_SIZE, shuffle=True, drop_last=True)\n",
    "\n",
    "model.to(DEV)\n",
    "optimizer = Adam(model.parameters(), lr=0.001)\n",
    "epochs = 80 # Try more! (50)\n",
    "\n",
    "for epoch in range(epochs):\n",
    "    for step, batch in enumerate(tqdm(dataloader, leave=False, desc=f\"Epoch {epoch}\")):\n",
    "    # for step, batch in enumerate(dataloader):\n",
    "        optimizer.zero_grad()\n",
    "        t = torch.randint(0, T, (BATCH_SIZE,), device=DEV).long()\n",
    "        loss = get_loss(model, batch, t)\n",
    "        loss.backward()\n",
    "        optimizer.step()\n",
    "\n",
    "        if epoch % 5 == 0 and step == 0:\n",
    "            print(f\"\\rEpoch {epoch} | Loss: {loss.item()} \")\n",
    "            sample_plot_image()\n",
    "    # save the model\n",
    "    torch.save(model.state_dict(), f\"mg_data/{JOBID}/diffusion_model.pth\")"
   ]
  },
  {
   "cell_type": "code",
   "execution_count": null,
   "metadata": {},
   "outputs": [],
   "source": [
    "# load the model\n",
    "model = SimpleUnet()\n",
    "model.load_state_dict(torch.load(f\"mg_data/{JOBID}/diffusion_model.pth\"))\n",
    "model.to(DEV)\n",
    "\n",
    "# sample and plot\n",
    "\n",
    "@torch.no_grad()\n",
    "def generate_samples(n):\n",
    "    imgs = torch.randn((n, 1, GSIZE, GSIZE), device=DEV) # Sample noise\n",
    "    for i in range(0,T)[::-1]:\n",
    "        t = torch.full((1,), i, device=DEV, dtype=torch.long)\n",
    "        imgs = sample_timestep(imgs, t)\n",
    "        # imgs = torch.clamp(imgs, -1.0, 1.0)\n",
    "    return imgs\n",
    "\n",
    "# Generate samples\n",
    "n = 7\n",
    "samples = generate_samples(n*n)\n",
    "plt.figure(figsize=(15, 20))\n",
    "plt.axis('off')\n",
    "for i in range(n):\n",
    "    for j in range(n):\n",
    "        plt.subplot(n, n, i*n+j+1)\n",
    "        show_tensor_image(np.clip(samples[i*n+j].detach().cpu(), 0, 10000))\n",
    "plt.suptitle(\"Generated samples\")\n",
    "plt.tight_layout()\n",
    "#save image\n",
    "plt.savefig(f\"mg_data/{JOBID}/diffusion_generated_samples.png\")\n",
    "plt.show()\n",
    "\n",
    "# samples from the dataset\n",
    "data = DiffSXRDataset(N_DS, GSIZE, True, 0, 0, KS/255)\n",
    "dataloader = DataLoader(data, batch_size=n*n, shuffle=True, drop_last=True)\n",
    "# sample from the dataset\n",
    "samples = next(iter(dataloader))\n",
    "plt.figure(figsize=(15, 20))\n",
    "plt.axis('off')\n",
    "for i in range(n):\n",
    "    for j in range(n):\n",
    "        plt.subplot(n, n, i*n+j+1)\n",
    "        show_tensor_image(np.clip(samples[i*n+j].detach().cpu(), 0, 10000))\n",
    "plt.suptitle(\"Real samples\")\n",
    "plt.tight_layout()\n",
    "#save image\n",
    "plt.savefig(f\"mg_data/{JOBID}/diffusion_real_samples.png\")\n",
    "plt.show()"
   ]
  }
 ],
 "metadata": {
  "accelerator": "GPU",
  "colab": {
   "collapsed_sections": [
    "wLHSIArLcFK0",
    "Rj17psVw7Shg",
    "buW6BaNga-XH",
    "8B9GlZrotBXy",
    "i7AZkYjKgQTm",
    "BIc33L9-uK4q"
   ],
   "provenance": []
  },
  "gpuClass": "standard",
  "kernelspec": {
   "display_name": "ml",
   "language": "python",
   "name": "python3"
  },
  "language_info": {
   "codemirror_mode": {
    "name": "ipython",
    "version": 3
   },
   "file_extension": ".py",
   "mimetype": "text/x-python",
   "name": "python",
   "nbconvert_exporter": "python",
   "pygments_lexer": "ipython3",
   "version": "3.12.8"
  }
 },
 "nbformat": 4,
 "nbformat_minor": 0
}
