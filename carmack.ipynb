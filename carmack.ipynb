{
 "cells": [
  {
   "cell_type": "markdown",
   "metadata": {},
   "source": [
    "# Notebook to test the Carmack algorithm for the inverse problem"
   ]
  },
  {
   "cell_type": "markdown",
   "metadata": {},
   "source": [
    "## Problem statement:\n",
    "$f(p, \\phi) = \\int_{L(\\mathbf{p})} \\,g(r, \\theta)$, find $g(r, \\theta)$ from $f(p, \\phi)$."
   ]
  },
  {
   "cell_type": "code",
   "execution_count": null,
   "metadata": {},
   "outputs": [],
   "source": [
    "from utils import *\n",
    "from math import factorial as fact\n",
    "from scipy.special import jn, jn_zeros, jv"
   ]
  },
  {
   "cell_type": "code",
   "execution_count": 2,
   "metadata": {},
   "outputs": [],
   "source": [
    "IDX = np.random.randint(0, 69352)\n",
    "M = 2\n",
    "L = 7\n",
    "FINESSE = 110"
   ]
  },
  {
   "cell_type": "markdown",
   "metadata": {},
   "source": [
    "## Data"
   ]
  },
  {
   "cell_type": "code",
   "execution_count": null,
   "metadata": {},
   "outputs": [],
   "source": [
    "#load data_clean.npy\n",
    "d = np.load('data/data_clean.npy')\n",
    "print(f'Keys in data: {d.dtype.names}')\n",
    "SXR = d['data'][IDX]\n",
    "EMISS = d['emiss'][IDX]\n",
    "BESSEL_COEFSS = d['target'][IDX]\n",
    "XX_GT, YY_GT = np.meshgrid(d['x_emiss'][IDX], d['y_emiss'][IDX][::-1]) # # NOTE: it's flipped up/down bc it's saved as an image with (0,0) at top left)\n",
    "XY_GT = np.stack([XX_GT, YY_GT], axis=-1)\n",
    "MAJR, MINR = d['majr'][IDX], d['minr'][IDX]\n",
    "print(f'SXR: {SXR.shape}, emiss: {EMISS.shape}, BESSEL_COEFSS: {BESSEL_COEFSS.shape}, XY_GT: {XY_GT.shape}')"
   ]
  },
  {
   "cell_type": "code",
   "execution_count": 4,
   "metadata": {},
   "outputs": [],
   "source": [
    "# #load data_clean.npz\n",
    "# data = np.load('data/data_clean.npz')\n",
    "# print(f'Keys in data: {data.files}')\n",
    "# SXR = data['SXR'][IDX]\n",
    "# EMISS = data['emiss'][IDX]\n",
    "# BESSEL_COEFSS = data['bessel_coefss'][IDX]\n",
    "# XX_GT, YY_GT = np.meshgrid(data['x_emiss'][IDX], data['y_emiss'][IDX][::-1]) # # NOTE: it's flipped up/down bc it's saved as an image with (0,0) at top left)\n",
    "# XY_GT = np.stack([XX_GT, YY_GT], axis=-1)\n",
    "# MAJR, MINR = data['majr'][IDX], data['minr'][IDX]\n",
    "# print(f'SXR: {SXR.shape}, EMISS: {EMISS.shape}, BESSEL_COEFSS: {BESSEL_COEFSS.shape}, XY_GT: {XY_GT.shape}')"
   ]
  },
  {
   "cell_type": "markdown",
   "metadata": {},
   "source": [
    "Bessel coeffs are 21, 3x7, because there are 2 coefss for cosine (0 and 1), both non-zero, and 1 for sine (1), bc the sine(0) is zero."
   ]
  },
  {
   "cell_type": "code",
   "execution_count": 5,
   "metadata": {},
   "outputs": [],
   "source": [
    "# a0cl, a1cl, a1sl = BESSEL_COEFSS[0:L], BESSEL_COEFSS[L:2*L], BESSEL_COEFSS[2*L:3*L]\n",
    "A0C, A1C, A1S = BESSEL_COEFSS[0:L], BESSEL_COEFSS[L:2*L], BESSEL_COEFSS[2*L:3*L] \n",
    "A0S = np.zeros(L) #A0S = 0\n",
    "A0, A1 = A0C + A0S *1j, A1C + A1S *1j # A0, A1 are complex numbers (see note below)\n",
    "A = np.array([A0, A1], dtype=complex) # a is a MxL array of complex numbers"
   ]
  },
  {
   "cell_type": "markdown",
   "metadata": {},
   "source": [
    "## Bessel functions and zeros"
   ]
  },
  {
   "cell_type": "code",
   "execution_count": null,
   "metadata": {},
   "outputs": [],
   "source": [
    "#bessel\n",
    "def bes(m:int,x:np.ndarray):\n",
    "    x_shape = x.shape\n",
    "    return jv(m,x.reshape(-1)).reshape(x_shape)\n",
    "\n",
    "def bes_zeros(m:int,n:int):\n",
    "    if m == 0: return jn_zeros(m,n)\n",
    "    else: return np.concatenate([[0], jn_zeros(m,n-1)])\n",
    "\n",
    "# def bes(m:int,x:np.ndarray,n=70): # accurate until x ~ n+m\n",
    "#     x_shape = x.shape\n",
    "#     x = x.reshape(-1)\n",
    "#     b = np.zeros_like(x)\n",
    "#     for l in range(n):\n",
    "#         b += (-1)**l * (x/2)**(2*l+m) / (fact(l)*fact(l+m))\n",
    "#     return b.reshape(x_shape)\n",
    "\n",
    "#plot\n",
    "r = np.linspace(0, 30, 300)\n",
    "plt.figure(figsize=(12,2))\n",
    "plt.subplot(121)\n",
    "for m in range(5):\n",
    "    plt.plot(r, bes(m,r), label=f'm={m}')\n",
    "plt.ylim(-1,1)\n",
    "plt.grid()\n",
    "plt.title('Basil functions by hand')\n",
    "\n",
    "# plot the first bessel functions\n",
    "plt.subplot(122)\n",
    "for m in range(5):\n",
    "    plt.plot(r, jn(m,r), label=f'm={m}')\n",
    "plt.ylim(-1,1)\n",
    "plt.grid()\n",
    "plt.title('Basil functions')\n",
    "plt.show()"
   ]
  },
  {
   "cell_type": "markdown",
   "metadata": {},
   "source": [
    "## Reconstructing the emiss $g(r,\\theta)$ from the Bessel coefficients\n",
    "$g^{c,s}_m(r) = \\sum_{l=0}^{\\infty} a^{c,s}_{ml} J_{m}(x_{ml}r)$ , with $x_{ml}$ the $l$-th root of the $m$-th Bessel function.\n",
    "\n",
    "In complex form:\n",
    "$g_m(r) = \\sum_{l=0}^{\\infty} a_{ml} J_{m}(x_{ml}r)$\n",
    "\n",
    "$r, \\theta$ are the spherical coordinates, $m$ is the harmonic, $c,s$ are the cosine and sine coefficients, $a$ are the Bessel coefficients, $J_m$ is the Bessel function of the first kind of order $m$.\n",
    "\n",
    "Note on imaginary/aritmetic version of the Fourier series:\n",
    "- $\\sum_{m=-\\infty}^{\\infty} a_m e^{im\\theta} = \\sum_{m=-\\infty}^{\\infty} a^c_m \\cos(m\\theta) + i a^s_m \\sin(m\\theta)$\n",
    "- $a^c_m = a_m + a_{-m} = 2 Re(a_m)$ \n",
    "- $a^s_m = i(a_m - a_{-m}) = 2 Im(a_m)$\n"
   ]
  },
  {
   "cell_type": "code",
   "execution_count": null,
   "metadata": {},
   "outputs": [],
   "source": [
    "def calc_g(r, θ, a): # r: vector of radii, θ: vector of angles, a vector of coefficients (complex numbers)\n",
    "    assert a.shape == (M,L) and a.dtype==complex, f'a.shape: {a.shape}, a.dtype: {a.dtype}'\n",
    "    g = np.zeros((len(r), len(θ)), dtype=complex)\n",
    "    for m in range(M):\n",
    "        gm = np.dot(a[m], bes(m, r*bes_zeros(m, L)[:,None]))\n",
    "        g += gm[:,None] * np.exp(1j*m*θ)\n",
    "    return np.abs(g).T\n",
    "\n",
    "r = np.linspace(0,1,FINESSE) # create a vector of radii\n",
    "θ = np.linspace(0,2*π,FINESSE) # create a vector of angles\n",
    "\n",
    "g = calc_g(r, θ, A)/MINR # calculate the g emissivity map\n",
    "\n",
    "rr, θθ = np.meshgrid(r, θ) # create a meshgrid of r and θ\n",
    "rθ = np.stack([rr, θθ], axis=-1)\n",
    "\n",
    "xy = np.zeros_like(rθ) # convert to cartesian coordinates\n",
    "xy[:,:,0] = rθ[:,:,0]*MINR * np.cos(rθ[:,:,1])\n",
    "xy[:,:,1] = rθ[:,:,0]*MINR * np.sin(rθ[:,:,1]) \n",
    "\n",
    "#plot\n",
    "plt.figure(figsize=(9,2))\n",
    "cbar_min, cbar_max = np.min([np.min(g), np.min(EMISS)]), np.max([np.max(g), np.max(EMISS)])\n",
    "xlm, xlM, ylm, ylM = np.min(XY_GT[:,:,0]), np.max(XY_GT[:,:,0]), np.min(XY_GT[:,:,1]), np.max(XY_GT[:,:,1])\n",
    "plt.subplot(121)\n",
    "plt.contourf(xy[:,:,0]+MAJR, xy[:,:,1], g)\n",
    "plt.plot(FW[:,0], FW[:,1], 'w', lw=2, alpha=0.3)\n",
    "plt.axis('equal')\n",
    "plt.grid(False)\n",
    "plt.xlim(xlm, xlM); plt.ylim(ylm, ylM)\n",
    "plt.colorbar()\n",
    "plt.subplot(122)\n",
    "plt.contourf(XY_GT[:,:,0], XY_GT[:,:,1], EMISS)\n",
    "plt.plot(FW[:,0], FW[:,1], 'w', lw=2, alpha=0.3)\n",
    "plt.axis('equal')\n",
    "plt.grid(False)\n",
    "plt.xlim(xlm, xlM); plt.ylim(ylm, ylM)\n",
    "plt.colorbar()\n",
    "plt.show()"
   ]
  },
  {
   "cell_type": "markdown",
   "metadata": {},
   "source": [
    "## Getting the Bessel coefficients"
   ]
  },
  {
   "cell_type": "markdown",
   "metadata": {},
   "source": [
    "### Line of signt definition and visualization\n",
    "<img src=\"data/geom.jpg\" alt=\"Geometry Image\" width=\"300\"/>"
   ]
  },
  {
   "cell_type": "code",
   "execution_count": null,
   "metadata": {},
   "outputs": [],
   "source": [
    "#function to convert line of sight in format (pinhole, angle) to (Φ, p) \n",
    "def pha2pΦ(ph, angle): \n",
    "    return line2pΦ(phα2line(ph, angle))\n",
    "\n",
    "def phα2line(ph, α): # convert line of sight in format (pinhole, angle) to standard line in the form ax + by + c = 0, returns a, b, c\n",
    "    return np.array([-np.sin(α), np.cos(α), np.sin(α)*ph[0]-np.cos(α)*ph[1]])\n",
    "    \n",
    "def line2pΦ(line): # convert standard line in the form ax + by + c = 0 to (Φ, p), returns Φ, p\n",
    "    a, b, c = line\n",
    "    return dist2line([RM, ZM], line), np.arctan2(b, a)\n",
    "\n",
    "def dist2line(p, line): # calculate the distance from a point to a line, returns distance line: [a, b, c] p: [x, y]\n",
    "    (x,y), (a,b,c) = p, line\n",
    "    return np.abs(a*x + b*y + c)/np.sqrt(a**2 + b**2)\n",
    "\n",
    "def draw_line(line): # line: [a,b,c], ax+by+c=0,\n",
    "    # assume to already have a plot\n",
    "    a,b,c = line\n",
    "    if np.abs(a) < np.abs(b):\n",
    "        x = np.linspace(R0, R1, 1000)\n",
    "        y = -(a*x + c)/b\n",
    "    else:\n",
    "        y = np.linspace(Z0, Z1, 1000)\n",
    "        x = -(b*y + c)/a\n",
    "    outside = ((x-RM)**2 + (y-ZM)**2) < (R_FW+GSPAC/2)**2\n",
    "    x, y = x[outside], y[outside]\n",
    "    plt.plot(x, y, 'w', alpha=0.8)\n",
    "\n",
    "\n",
    "# test \n",
    "RFX_I = 0 # index of the rfx fan [0:vdi, 1:vdc, 2:vde, 3:hor]\n",
    "nrays, start_angle, span_angle, pinhole_position, idxs_to_keep = RFX_SXR_NRAYS[RFX_I], RFX_SXR_STARTS[RFX_I], RFX_SXR_SPANS[RFX_I], RFX_SXR_PINHOLES[RFX_I], RFX_SXR_TO_KEEP[RFX_I]\n",
    "rays, _, _ = create_rfx_fan(nrays, start_angle, span_angle, pinhole_position, idxs_to_keep, ret_all=True)\n",
    "\n",
    "# calc angles\n",
    "αs = np.linspace(start_angle, start_angle+span_angle, nrays)[idxs_to_keep]\n",
    "\n",
    "lines = np.zeros((len(rays),3))\n",
    "for i in range(len(rays)):\n",
    "    lines[i] = phα2line(pinhole_position, αs[i])  \n",
    "\n",
    "ps, Φs = np.zeros((len(rays)), dtype=float), np.zeros((len(rays)), dtype=float)\n",
    "for i in range(len(rays)):\n",
    "    ps[i], Φs[i] = line2pΦ(lines[i])\n",
    "\n",
    "# plot\n",
    "plt.figure(figsize=(9,2))\n",
    "plt.subplot(121)\n",
    "plt.contourf(XY_GT[:,:,0], XY_GT[:,:,1], EMISS)\n",
    "plt.plot(FW[:,0], FW[:,1], 'w', lw=2, alpha=0.3)\n",
    "plt.axis('equal')\n",
    "plt.xlim(R0, R1); plt.ylim(Z0, Z1)\n",
    "plt.grid(False)\n",
    "# plot rays\n",
    "for r in rays: \n",
    "    plt.plot(r[:,0], r[:,1], 'w', alpha=0.8)\n",
    "\n",
    "plt.subplot(122)\n",
    "plt.contourf(XY_GT[:,:,0], XY_GT[:,:,1], EMISS)\n",
    "plt.plot(FW[:,0], FW[:,1], 'w', lw=2, alpha=0.3)\n",
    "plt.axis('equal')\n",
    "# plt.xlim(R0, R1); plt.ylim(Z0, Z1)\n",
    "plt.grid(False)\n",
    "# plot lines\n",
    "for l in lines: draw_line(l)"
   ]
  }
 ],
 "metadata": {
  "kernelspec": {
   "display_name": "ml",
   "language": "python",
   "name": "python3"
  },
  "language_info": {
   "codemirror_mode": {
    "name": "ipython",
    "version": 3
   },
   "file_extension": ".py",
   "mimetype": "text/x-python",
   "name": "python",
   "nbconvert_exporter": "python",
   "pygments_lexer": "ipython3",
   "version": "3.12.8"
  }
 },
 "nbformat": 4,
 "nbformat_minor": 2
}
