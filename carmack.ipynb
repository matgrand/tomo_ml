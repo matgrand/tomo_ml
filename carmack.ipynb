{
 "cells": [
  {
   "cell_type": "markdown",
   "metadata": {},
   "source": [
    "# Notebook to test the Carmack algorithm for the inverse problem"
   ]
  },
  {
   "cell_type": "code",
   "execution_count": 21,
   "metadata": {},
   "outputs": [],
   "source": [
    "import numpy as np\n",
    "from scipy.special import jn, jn_zeros, jv\n",
    "from math import factorial as fact\n",
    "import matplotlib.pyplot as plt"
   ]
  },
  {
   "cell_type": "code",
   "execution_count": null,
   "metadata": {},
   "outputs": [],
   "source": [
    "#load data_clean.npz\n",
    "data = np.load('data/data_clean.npz')\n",
    "print(f'Keys in data: {data.files}')"
   ]
  },
  {
   "cell_type": "code",
   "execution_count": 23,
   "metadata": {},
   "outputs": [],
   "source": [
    "IDX = 10\n",
    "M = 2\n",
    "L = 7\n",
    "FINESSE = 110"
   ]
  },
  {
   "cell_type": "markdown",
   "metadata": {},
   "source": [
    "Bessel coeffs are 21, 3x7, because there are 2 coefss for cosine (0 and 1), both non-zero, and 1 for sine (1), bc the sine(0) is zero."
   ]
  },
  {
   "cell_type": "code",
   "execution_count": null,
   "metadata": {},
   "outputs": [],
   "source": [
    "sxr = data['sxr'][IDX]\n",
    "emiss = data['emiss'][IDX]\n",
    "bessel_coefss = data['bessel_coefss'][IDX]\n",
    "a0cl, a1cl, a1sl = bessel_coefss[0:L], bessel_coefss[L:2*L], bessel_coefss[2*L:3*L]\n",
    "\n",
    "print(f'sxr.shape: {sxr.shape}')\n",
    "print(f'emiss.shape: {emiss.shape}')\n",
    "print(f'bessel_coefss.shape: {bessel_coefss.shape}')\n",
    "print(f'a0cl.shape: {a0cl.shape}')\n",
    "print(f'a1cl.shape: {a1cl.shape}')\n",
    "print(f'a1sl.shape: {a1sl.shape}')"
   ]
  },
  {
   "cell_type": "markdown",
   "metadata": {},
   "source": [
    "## Bessel polynomials"
   ]
  },
  {
   "cell_type": "code",
   "execution_count": null,
   "metadata": {},
   "outputs": [],
   "source": [
    "#bessel\n",
    "def bes(m:int,x:np.ndarray):\n",
    "    return jv(m,x)\n",
    "\n",
    "def bes(m:int,x:np.ndarray,n=20): # accurate until x ~ 15\n",
    "    b = np.zeros_like(r)\n",
    "    for l in range(n):\n",
    "        b += (-1)**l * (x/2)**(2*l+m) / (fact(l)*fact(l+m))\n",
    "    return b\n",
    "\n",
    "r = np.linspace(0, 20, 300)\n",
    "plt.figure(figsize=(12,3))\n",
    "plt.subplot(121)\n",
    "for m in range(5):\n",
    "    plt.plot(r, bes(m,r), label=f'm={m}')\n",
    "plt.ylim(-1,1)\n",
    "plt.grid()\n",
    "plt.legend()\n",
    "plt.title('Bessel functions by hand')\n",
    "\n",
    "# plot the first bessel functions\n",
    "plt.subplot(122)\n",
    "for m in range(5):\n",
    "    plt.plot(r, jn(m,r), label=f'm={m}')\n",
    "plt.ylim(-1,1)\n",
    "plt.grid()\n",
    "plt.legend()\n",
    "plt.title('Bessel functions')"
   ]
  }
 ],
 "metadata": {
  "kernelspec": {
   "display_name": "ml",
   "language": "python",
   "name": "python3"
  },
  "language_info": {
   "codemirror_mode": {
    "name": "ipython",
    "version": 3
   },
   "file_extension": ".py",
   "mimetype": "text/x-python",
   "name": "python",
   "nbconvert_exporter": "python",
   "pygments_lexer": "ipython3",
   "version": "3.12.8"
  }
 },
 "nbformat": 4,
 "nbformat_minor": 2
}
