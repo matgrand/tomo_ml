{
 "cells": [
  {
   "cell_type": "markdown",
   "metadata": {},
   "source": [
    "# Notebook to test the Carmack algorithm for the inverse problem"
   ]
  },
  {
   "cell_type": "markdown",
   "metadata": {},
   "source": [
    "## Problem statement:\n",
    "$f(p, \\phi) = \\int_{L(\\mathbf{p})} \\,g(r, \\theta)$, find $g(r, \\theta)$ from $f(p, \\phi)$."
   ]
  },
  {
   "cell_type": "code",
   "execution_count": 565,
   "metadata": {},
   "outputs": [],
   "source": [
    "import numpy as np\n",
    "from scipy.special import jn, jn_zeros, jv\n",
    "from math import factorial as fact\n",
    "π = np.pi\n",
    "import matplotlib.pyplot as plt\n",
    "import seaborn as sns\n",
    "from tqdm import tqdm\n",
    "sns.set_style(\"darkgrid\")  # adds seaborn style to charts, eg. grid\n",
    "plt.style.use(\"dark_background\")  # inverts colors to dark theme\n",
    "plt.rcParams['font.family'] = 'monospace' \n",
    "plt.rcParams['axes.grid'] = True\n",
    "plt.rcParams['image.cmap'] = 'plasma'\n",
    "np.set_printoptions(precision=3) # set precision for printing numpy arrays\n",
    "from tqdm import tqdm"
   ]
  },
  {
   "cell_type": "code",
   "execution_count": null,
   "metadata": {},
   "outputs": [],
   "source": [
    "data = np.load('data/data_clean.npy')\n",
    "print(f'data: {data.dtype}')\n"
   ]
  },
  {
   "cell_type": "code",
   "execution_count": 567,
   "metadata": {},
   "outputs": [],
   "source": [
    "IDX = np.random.randint(0, 69352)\n",
    "M = 2\n",
    "L = 7\n",
    "FINESSE = 110"
   ]
  },
  {
   "cell_type": "code",
   "execution_count": null,
   "metadata": {},
   "outputs": [],
   "source": [
    "#load data_clean.npy\n",
    "d = np.load('data/data_clean.npy')\n",
    "print(f'Keys in data: {d.dtype.names}')\n",
    "sxr = d['data'][IDX]\n",
    "emiss = d['emiss'][IDX]\n",
    "bessel_coefss = d['target'][IDX]\n",
    "xx_gt, yy_gt = np.meshgrid(d['x_emiss'][IDX], d['y_emiss'][IDX])\n",
    "xy_gt = np.stack([xx_gt, yy_gt], axis=-1)\n",
    "MAJR, MINR = d['majr'][IDX], d['minr'][IDX]\n",
    "print(f'sxr: {sxr.shape}, emiss: {emiss.shape}, bessel_coefss: {bessel_coefss.shape}, xy_gt: {xy_gt.shape}')"
   ]
  },
  {
   "cell_type": "code",
   "execution_count": 569,
   "metadata": {},
   "outputs": [],
   "source": [
    "# #load data_clean.npz\n",
    "# data = np.load('data/data_clean.npz')\n",
    "# print(f'Keys in data: {data.files}')\n",
    "\n",
    "# sxr = data['sxr'][IDX]\n",
    "# emiss = data['emiss'][IDX]\n",
    "# bessel_coefss = data['bessel_coefss'][IDX]\n",
    "# xx_gt, yy_gt = np.meshgrid(data['x_emiss'][IDX], data['y_emiss'][IDX])\n",
    "# xy_gt = np.stack([xx_gt, yy_gt], axis=-1)\n",
    "# MAJR, MINR = data['majr'][IDX], data['minr'][IDX]\n",
    "# print(f'sxr: {sxr.shape}, emiss: {emiss.shape}, bessel_coefss: {bessel_coefss.shape}, xy_gt: {xy_gt.shape}')\n"
   ]
  },
  {
   "cell_type": "markdown",
   "metadata": {},
   "source": [
    "Bessel coeffs are 21, 3x7, because there are 2 coefss for cosine (0 and 1), both non-zero, and 1 for sine (1), bc the sine(0) is zero."
   ]
  },
  {
   "cell_type": "code",
   "execution_count": null,
   "metadata": {},
   "outputs": [],
   "source": [
    "# a0cl, a1cl, a1sl = bessel_coefss[0:L], bessel_coefss[L:2*L], bessel_coefss[2*L:3*L]\n",
    "a0c, a1c, a1s = bessel_coefss[0:L], bessel_coefss[L:2*L], bessel_coefss[2*L:3*L] \n",
    "a0s = np.zeros(L) #a0s = 0\n",
    "\n",
    "a0, a1 = a0c + a0s *1j, a1c + a1s *1j # a0, a1 are complex numbers (see note below)\n",
    "\n",
    "a = np.array([a0, a1], dtype=complex) # a is a MxL array of complex numbers\n",
    "\n",
    "print(f'sxr.shape: {sxr.shape}')\n",
    "print(f'emiss.shape: {emiss.shape}')\n",
    "print(f'bessel_coefss.shape: {bessel_coefss.shape}')\n",
    "print(f'a0c.shape: {a0c.shape}')\n",
    "print(f'a0s.shape: {a0s.shape}')\n",
    "print(f'a1c.shape: {a1c.shape}')\n",
    "print(f'a1s.shape: {a1s.shape}')\n",
    "\n",
    "#  print the actual values of the coefficients\n",
    "print(f'a0c: {a0c}')\n",
    "print(f'a0s: {a0s}')\n",
    "print(f'a1c: {a1c}')\n",
    "print(f'a1s: {a1s}')\n",
    "\n",
    "# print complex numbers\n",
    "print(f'a0: {a0}')\n",
    "print(f'a1: {a1}')\n",
    "\n",
    "# print the shape of the a array\n",
    "print(f'a.shape: {a.shape}')\n"
   ]
  },
  {
   "cell_type": "markdown",
   "metadata": {},
   "source": [
    "## Bessel functions"
   ]
  },
  {
   "cell_type": "code",
   "execution_count": null,
   "metadata": {},
   "outputs": [],
   "source": [
    "#bessel\n",
    "def bes(m:int,x:np.ndarray):\n",
    "    x_shape = x.shape\n",
    "    return jv(m,x.reshape(-1)).reshape(x_shape)\n",
    "\n",
    "# def bes_zeros(m:int,n:int):\n",
    "#     bz = jn_zeros(m,n)\n",
    "#     if m > 0: # jn does not return the first zero for m > 0\n",
    "#         bz = np.roll(bz, +1)\n",
    "#         bz[0] = 0\n",
    "#     return bz\n",
    "\n",
    "def bes_zeros(m:int,n:int):\n",
    "    if m == 0: return jn_zeros(m,n)\n",
    "    else: return np.concatenate([[0], jn_zeros(m,n-1)])\n",
    "\n",
    "# def bes(m:int,x:np.ndarray,n=70): # accurate until x ~ n+m\n",
    "#     b = np.zeros_like(r)\n",
    "#     for l in range(n):\n",
    "#         b += (-1)**l * (x/2)**(2*l+m) / (fact(l)*fact(l+m))\n",
    "#     return b\n",
    "\n",
    "r = np.linspace(0, 30, 300)\n",
    "plt.figure(figsize=(12,3))\n",
    "plt.subplot(121)\n",
    "for m in range(5):\n",
    "    plt.plot(r, bes(m,r), label=f'm={m}')\n",
    "    plt.plot(r, bes(m,r), label=f'm={m}')\n",
    "plt.ylim(-1,1)\n",
    "plt.grid()\n",
    "plt.legend()\n",
    "plt.title('Basil functions by hand')\n",
    "\n",
    "# plot the first bessel functions\n",
    "plt.subplot(122)\n",
    "for m in range(5):\n",
    "    plt.plot(r, jn(m,r), label=f'm={m}')\n",
    "plt.ylim(-1,1)\n",
    "plt.grid()\n",
    "plt.legend()\n",
    "plt.title('Basil functions')\n",
    "plt.show()"
   ]
  },
  {
   "cell_type": "markdown",
   "metadata": {},
   "source": [
    "### Reconstructing the emiss $g(r,\\theta)$ from the Bessel coefficients\n",
    "$g^{c,s}_m(r) = \\sum_{l=0}^{\\infty} a^{c,s}_{ml} J_{m}(x_{ml}r)$ , with $x_{ml}$ the $l$-th root of the $m$-th Bessel function.\n",
    "\n",
    "In complex form:\n",
    "$g_m(r) = \\sum_{l=0}^{\\infty} a_{ml} J_{m}(x_{ml}r)$\n",
    "\n",
    "$r, \\theta$ are the spherical coordinates, $m$ is the harmonic, $c,s$ are the cosine and sine coefficients, $a$ are the Bessel coefficients, $J_m$ is the Bessel function of the first kind of order $m$.\n",
    "\n",
    "Note on imaginary/aritmetic version of the Fourier series:\n",
    "- $\\sum_{m=-\\infty}^{\\infty} a_m e^{im\\theta} = \\sum_{m=-\\infty}^{\\infty} a^c_m \\cos(m\\theta) + i a^s_m \\sin(m\\theta)$\n",
    "- $a^c_m = a_m + a_{-m} = 2 Re(a_m)$ \n",
    "- $a^s_m = i(a_m - a_{-m}) = 2 Im(a_m)$\n"
   ]
  },
  {
   "cell_type": "code",
   "execution_count": null,
   "metadata": {},
   "outputs": [],
   "source": [
    "# def calc_g(r, θ, a): # r: array of radii, θ: array of angles, a vector of coefficients (complex numbers)\n",
    "#     assert a.shape == (M,L)\n",
    "#     g = np.zeros((len(r), len(θ)), dtype=complex)\n",
    "#     for m in range(M):\n",
    "#         xm = bes_zeros(m, L) # zeros of the mth bessel function\n",
    "#         print(f'xm: {xm}')\n",
    "#         for l in range(L):\n",
    "#             gm = a[m,l] * bes(m, xm[l]*r)\n",
    "#             for i, θi in enumerate(θ):\n",
    "#                 g[:,i] += gm * np.exp(1j*m*θi)\n",
    "#     return g/0.459\n",
    "\n",
    "def calc_g(r, θ, a): # r: array of radii, θ: array of angles, a vector of coefficients (complex numbers)\n",
    "    assert a.shape == (M,L)\n",
    "    g = np.zeros((len(r), len(θ)), dtype=complex)\n",
    "    for m in range(M):\n",
    "        gm = np.dot(a[m], bes(m, r*bes_zeros(m, L)[:,None]))\n",
    "        g += gm[:,None] * np.exp(1j*m*θ)\n",
    "    return np.abs(g).T/MINR\n",
    "\n",
    "r = np.linspace(0,1,FINESSE)\n",
    "θ = np.linspace(0,2*π,FINESSE)\n",
    "\n",
    "g = calc_g(r, θ, a) # calculate the g emissivity map\n",
    "\n",
    "rr, θθ = np.meshgrid(r, θ) # create a meshgrid of r and θ\n",
    "print(f'rr.shape: {rr.shape}, θθ.shape: {θθ.shape}')\n",
    "rθ = np.stack([rr, θθ], axis=-1)\n",
    "print(f'rθ.shape: {rθ.shape}')\n",
    "\n",
    "xy = np.zeros_like(rθ) # convert to cartesian coordinates\n",
    "xy[:,:,0] = rθ[:,:,0]*MINR * np.cos(rθ[:,:,1])\n",
    "xy[:,:,1] = rθ[:,:,0]*MINR * np.sin(rθ[:,:,1]+π) # NOTE: for some reason it's flipped (PROBABLY BC IT'S AN IMAGE AND TOP [0,0 IS THE TOP LEFT CORNER])\n",
    "\n",
    "cbar_min, cbar_max = np.min([g,emiss]), np.max([g,emiss])\n",
    "xlm, xlM, ylm, ylM = np.min(xy_gt[:,:,0]), np.max(xy_gt[:,:,0]), np.min(xy_gt[:,:,1]), np.max(xy_gt[:,:,1])\n",
    "\n",
    "plt.figure(figsize=(9,3))\n",
    "plt.subplot(121)\n",
    "plt.contourf(xy[:,:,0]+MAJR, xy[:,:,1], g)\n",
    "plt.axis('equal')\n",
    "plt.xlim(xlm, xlM); plt.ylim(ylm, ylM)\n",
    "plt.colorbar()\n",
    "\n",
    "plt.subplot(122)\n",
    "plt.contourf(xy_gt[:,:,0], xy_gt[:,:,1], emiss)\n",
    "plt.axis('equal')\n",
    "plt.xlim(xlm, xlM); plt.ylim(ylm, ylM)\n",
    "plt.colorbar()\n",
    "\n",
    "\n",
    "plt.show()"
   ]
  },
  {
   "cell_type": "code",
   "execution_count": 573,
   "metadata": {},
   "outputs": [],
   "source": [
    "#[[ 2.405  5.52   8.654 11.792 14.931 18.071 21.212]\n",
    "# [ 0.     3.832  7.016 10.173 13.324 16.471 19.616]]"
   ]
  }
 ],
 "metadata": {
  "kernelspec": {
   "display_name": "ml",
   "language": "python",
   "name": "python3"
  },
  "language_info": {
   "codemirror_mode": {
    "name": "ipython",
    "version": 3
   },
   "file_extension": ".py",
   "mimetype": "text/x-python",
   "name": "python",
   "nbconvert_exporter": "python",
   "pygments_lexer": "ipython3",
   "version": "3.12.8"
  }
 },
 "nbformat": 4,
 "nbformat_minor": 2
}
