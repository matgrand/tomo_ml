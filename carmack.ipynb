{
 "cells": [
  {
   "cell_type": "markdown",
   "metadata": {},
   "source": [
    "# Notebook to test the Carmack algorithm for the inverse problem"
   ]
  },
  {
   "cell_type": "code",
   "execution_count": 5,
   "metadata": {},
   "outputs": [],
   "source": [
    "import numpy as np\n",
    "from scipy.special import jn, jn_zeros"
   ]
  },
  {
   "cell_type": "code",
   "execution_count": 6,
   "metadata": {},
   "outputs": [
    {
     "name": "stdout",
     "output_type": "stream",
     "text": [
      "Keys in data: ['label', 'shot', 'time', 'sxr', 'data_err', 'bessel_coefss', 'emiss', 'x_emiss', 'y_emiss', 'majr', 'minr', 'b_tor', 'b_rad', 'phi_tor']\n"
     ]
    }
   ],
   "source": [
    "#load data_clean.npz\n",
    "data = np.load('data/data_clean.npz')\n",
    "print(f'Keys in data: {data.files}')"
   ]
  },
  {
   "cell_type": "code",
   "execution_count": 7,
   "metadata": {},
   "outputs": [],
   "source": [
    "IDX = 10"
   ]
  },
  {
   "cell_type": "code",
   "execution_count": 9,
   "metadata": {},
   "outputs": [
    {
     "name": "stdout",
     "output_type": "stream",
     "text": [
      "sxr.shape: (92,)\n",
      "emiss.shape: (110, 110)\n",
      "bessel_coefss.shape: (21,)\n"
     ]
    }
   ],
   "source": [
    "sxr = data['sxr'][IDX]\n",
    "emiss = data['emiss'][IDX]\n",
    "bessel_coefss = data['bessel_coefss'][IDX]\n",
    "\n",
    "print(f'sxr.shape: {sxr.shape}')\n",
    "print(f'emiss.shape: {emiss.shape}')\n",
    "print(f'bessel_coefss.shape: {bessel_coefss.shape}')"
   ]
  }
 ],
 "metadata": {
  "kernelspec": {
   "display_name": "ml",
   "language": "python",
   "name": "python3"
  },
  "language_info": {
   "codemirror_mode": {
    "name": "ipython",
    "version": 3
   },
   "file_extension": ".py",
   "mimetype": "text/x-python",
   "name": "python",
   "nbconvert_exporter": "python",
   "pygments_lexer": "ipython3",
   "version": "3.12.8"
  }
 },
 "nbformat": 4,
 "nbformat_minor": 2
}
